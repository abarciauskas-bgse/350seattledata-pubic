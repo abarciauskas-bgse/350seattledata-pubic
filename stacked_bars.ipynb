{
 "cells": [
  {
   "cell_type": "code",
   "execution_count": 1,
   "id": "nutritional-tragedy",
   "metadata": {},
   "outputs": [],
   "source": [
    "import psycopg2"
   ]
  },
  {
   "cell_type": "code",
   "execution_count": 2,
   "id": "fresh-terminal",
   "metadata": {},
   "outputs": [],
   "source": [
    "conn = psycopg2.connect(\"dbname=350seattle\")"
   ]
  },
  {
   "cell_type": "code",
   "execution_count": 3,
   "id": "extreme-holocaust",
   "metadata": {},
   "outputs": [],
   "source": [
    "cur = conn.cursor()"
   ]
  },
  {
   "cell_type": "code",
   "execution_count": 4,
   "id": "bound-valley",
   "metadata": {},
   "outputs": [],
   "source": [
    "# results = cur.execute(\"SELECT * FROM voters_kc_2017 limit 10\");\n",
    "years = [2017, 2018, 2019, 2020]\n",
    "def table_name(year):\n",
    "    return f\"voters_kc_{year}\""
   ]
  },
  {
   "cell_type": "code",
   "execution_count": 5,
   "id": "unique-lebanon",
   "metadata": {},
   "outputs": [],
   "source": [
    "election_dates = {\n",
    "    2017: '20171107',\n",
    "    2018: '20181106',\n",
    "    2019: '20191105',\n",
    "    2020: '20201103'\n",
    "}\n",
    "age_ranges = ['Under 35','35-50','Over 50']"
   ]
  },
  {
   "cell_type": "code",
   "execution_count": 6,
   "id": "simplified-circus",
   "metadata": {},
   "outputs": [],
   "source": [
    "def count_voters(year, check_if_voted = False):\n",
    "    query_str = f\"select count(*) from {table_name(year)}\"\n",
    "    if check_if_voted: query_str += \" where VOTED = 1\"\n",
    "    create_function = f\"\"\"\n",
    "    create or replace function count_total_registered() returns int as $$\n",
    "        DECLARE  \n",
    "            total_registered_voters integer;\n",
    "        BEGIN  \n",
    "            return ({query_str});\n",
    "        END;\n",
    "    $$ LANGUAGE plpgsql;\n",
    "    \"\"\"\n",
    "    cur.execute(create_function)\n",
    "    cur.execute(\"select count_total_registered from count_total_registered();\")\n",
    "    return cur.fetchone()[0]"
   ]
  },
  {
   "cell_type": "code",
   "execution_count": 7,
   "id": "placed-trout",
   "metadata": {},
   "outputs": [
    {
     "name": "stdout",
     "output_type": "stream",
     "text": [
      "521081\n",
      "521081\n",
      "521210\n",
      "521210\n"
     ]
    }
   ],
   "source": [
    "print(count_voters(2017))\n",
    "print(count_voters(2018))\n",
    "print(count_voters(2019))\n",
    "print(count_voters(2020))"
   ]
  },
  {
   "cell_type": "code",
   "execution_count": 8,
   "id": "demanding-defensive",
   "metadata": {},
   "outputs": [],
   "source": [
    "def count_under35_func(year, check_if_voted = False):\n",
    "    date_str = election_dates[year]\n",
    "    query_str = f\"select count(*) from {table_name(year)} where Birthdate > ((SELECT TO_DATE(\\'{date_str}\\', 'YYYYMMDD')) - interval '35 years')\";\n",
    "    if check_if_voted: query_str += \" and VOTED = 1\"\n",
    "    create_function = f\"\"\"\n",
    "    create or replace function count_under35() returns int as $$\n",
    "        DECLARE  \n",
    "            under35 integer;\n",
    "        BEGIN  \n",
    "            return ({query_str});\n",
    "        END;\n",
    "    $$ LANGUAGE plpgsql;\n",
    "    \"\"\"\n",
    "    cur.execute(create_function)\n",
    "    cur.execute(\"select * from count_under35()\")\n",
    "    return cur.fetchone()[0]    "
   ]
  },
  {
   "cell_type": "code",
   "execution_count": 9,
   "id": "dominant-catalog",
   "metadata": {},
   "outputs": [
    {
     "name": "stdout",
     "output_type": "stream",
     "text": [
      "226436\n",
      "214512\n",
      "202214\n",
      "189102\n"
     ]
    }
   ],
   "source": [
    "print(count_under35_func(2017))\n",
    "print(count_under35_func(2018))\n",
    "print(count_under35_func(2019))\n",
    "print(count_under35_func(2020))"
   ]
  },
  {
   "cell_type": "code",
   "execution_count": 10,
   "id": "simple-lemon",
   "metadata": {},
   "outputs": [],
   "source": [
    "def count_over50_func(year, check_if_voted = False):\n",
    "    date_str = election_dates[year]\n",
    "    query_str = f\"select count(*) from {table_name(year)} where Birthdate < ((SELECT TO_DATE(\\'{date_str}\\', 'YYYYMMDD')) - interval '50 years')\"\n",
    "    if check_if_voted: query_str += \" and VOTED = 1\"\n",
    "    create_function = f\"\"\"\n",
    "    create or replace function count_over50() returns int as $$\n",
    "        DECLARE  \n",
    "            over50 integer;\n",
    "        BEGIN  \n",
    "            return ({query_str});\n",
    "        END;\n",
    "    $$ LANGUAGE plpgsql;\n",
    "    \"\"\"\n",
    "    cur.execute(create_function)\n",
    "    cur.execute(\"select * from count_over50()\")\n",
    "    return cur.fetchone()[0]    "
   ]
  },
  {
   "cell_type": "code",
   "execution_count": 11,
   "id": "essential-piece",
   "metadata": {},
   "outputs": [
    {
     "name": "stdout",
     "output_type": "stream",
     "text": [
      "162260\n",
      "170079\n",
      "178262\n",
      "186968\n"
     ]
    }
   ],
   "source": [
    "print(count_over50_func(2017))\n",
    "print(count_over50_func(2018))\n",
    "print(count_over50_func(2019))\n",
    "print(count_over50_func(2020))"
   ]
  },
  {
   "cell_type": "code",
   "execution_count": 41,
   "id": "indirect-ceremony",
   "metadata": {},
   "outputs": [
    {
     "data": {
      "text/html": [
       "<div>\n",
       "<style scoped>\n",
       "    .dataframe tbody tr th:only-of-type {\n",
       "        vertical-align: middle;\n",
       "    }\n",
       "\n",
       "    .dataframe tbody tr th {\n",
       "        vertical-align: top;\n",
       "    }\n",
       "\n",
       "    .dataframe thead th {\n",
       "        text-align: right;\n",
       "    }\n",
       "</style>\n",
       "<table border=\"1\" class=\"dataframe\">\n",
       "  <thead>\n",
       "    <tr style=\"text-align: right;\">\n",
       "      <th></th>\n",
       "      <th>Year</th>\n",
       "      <th>Age Ranges</th>\n",
       "      <th>Count Registered</th>\n",
       "      <th>Count Voted</th>\n",
       "      <th>Proportional Vote</th>\n",
       "    </tr>\n",
       "  </thead>\n",
       "  <tbody>\n",
       "    <tr>\n",
       "      <th>0</th>\n",
       "      <td>2017</td>\n",
       "      <td>Under 35</td>\n",
       "      <td>226436</td>\n",
       "      <td>40859</td>\n",
       "      <td>0.180444</td>\n",
       "    </tr>\n",
       "    <tr>\n",
       "      <th>1</th>\n",
       "      <td>2017</td>\n",
       "      <td>35-50</td>\n",
       "      <td>132385</td>\n",
       "      <td>54604</td>\n",
       "      <td>0.412464</td>\n",
       "    </tr>\n",
       "    <tr>\n",
       "      <th>2</th>\n",
       "      <td>2017</td>\n",
       "      <td>Over 50</td>\n",
       "      <td>162260</td>\n",
       "      <td>93988</td>\n",
       "      <td>0.579243</td>\n",
       "    </tr>\n",
       "    <tr>\n",
       "      <th>3</th>\n",
       "      <td>2018</td>\n",
       "      <td>Under 35</td>\n",
       "      <td>214512</td>\n",
       "      <td>96775</td>\n",
       "      <td>0.451140</td>\n",
       "    </tr>\n",
       "    <tr>\n",
       "      <th>4</th>\n",
       "      <td>2018</td>\n",
       "      <td>35-50</td>\n",
       "      <td>136490</td>\n",
       "      <td>92509</td>\n",
       "      <td>0.677771</td>\n",
       "    </tr>\n",
       "    <tr>\n",
       "      <th>5</th>\n",
       "      <td>2018</td>\n",
       "      <td>Over 50</td>\n",
       "      <td>170079</td>\n",
       "      <td>129785</td>\n",
       "      <td>0.763087</td>\n",
       "    </tr>\n",
       "    <tr>\n",
       "      <th>6</th>\n",
       "      <td>2019</td>\n",
       "      <td>Under 35</td>\n",
       "      <td>202214</td>\n",
       "      <td>58934</td>\n",
       "      <td>0.291444</td>\n",
       "    </tr>\n",
       "    <tr>\n",
       "      <th>7</th>\n",
       "      <td>2019</td>\n",
       "      <td>35-50</td>\n",
       "      <td>140734</td>\n",
       "      <td>68687</td>\n",
       "      <td>0.488063</td>\n",
       "    </tr>\n",
       "    <tr>\n",
       "      <th>8</th>\n",
       "      <td>2019</td>\n",
       "      <td>Over 50</td>\n",
       "      <td>178262</td>\n",
       "      <td>115270</td>\n",
       "      <td>0.646632</td>\n",
       "    </tr>\n",
       "    <tr>\n",
       "      <th>9</th>\n",
       "      <td>2020</td>\n",
       "      <td>Under 35</td>\n",
       "      <td>189102</td>\n",
       "      <td>146425</td>\n",
       "      <td>0.774318</td>\n",
       "    </tr>\n",
       "    <tr>\n",
       "      <th>10</th>\n",
       "      <td>2020</td>\n",
       "      <td>35-50</td>\n",
       "      <td>145140</td>\n",
       "      <td>122002</td>\n",
       "      <td>0.840582</td>\n",
       "    </tr>\n",
       "    <tr>\n",
       "      <th>11</th>\n",
       "      <td>2020</td>\n",
       "      <td>Over 50</td>\n",
       "      <td>186968</td>\n",
       "      <td>165225</td>\n",
       "      <td>0.883707</td>\n",
       "    </tr>\n",
       "  </tbody>\n",
       "</table>\n",
       "</div>"
      ],
      "text/plain": [
       "    Year Age Ranges  Count Registered  Count Voted  Proportional Vote\n",
       "0   2017   Under 35            226436        40859           0.180444\n",
       "1   2017      35-50            132385        54604           0.412464\n",
       "2   2017    Over 50            162260        93988           0.579243\n",
       "3   2018   Under 35            214512        96775           0.451140\n",
       "4   2018      35-50            136490        92509           0.677771\n",
       "5   2018    Over 50            170079       129785           0.763087\n",
       "6   2019   Under 35            202214        58934           0.291444\n",
       "7   2019      35-50            140734        68687           0.488063\n",
       "8   2019    Over 50            178262       115270           0.646632\n",
       "9   2020   Under 35            189102       146425           0.774318\n",
       "10  2020      35-50            145140       122002           0.840582\n",
       "11  2020    Over 50            186968       165225           0.883707"
      ]
     },
     "execution_count": 41,
     "metadata": {},
     "output_type": "execute_result"
    }
   ],
   "source": [
    "%matplotlib inline\n",
    "\n",
    "# https://pstblog.com/2016/10/04/stacked-charts\n",
    "import pandas as pd\n",
    "import numpy as np\n",
    "import matplotlib.pyplot as plt\n",
    "import matplotlib\n",
    "\n",
    "matplotlib.style.use('ggplot')\n",
    "\n",
    "# for each year, append 3 of that year to the first item in data\n",
    "# append the age ranges to the second item in `data`\n",
    "data_for_bar_chart = [\n",
    "    [], # years - 2017, 2017, 2017, 2018, ...\n",
    "    [], # age_ranges, -- Under 35, 35-50, Over 50, (repeat)\n",
    "    [], # count registereds,\n",
    "    [], # Count voted \n",
    "    []  # proportional vote by age range\n",
    "]\n",
    "\n",
    "for year in years:\n",
    "    data_for_bar_chart[0].extend(np.repeat(year, 3))\n",
    "    data_for_bar_chart[1].extend(age_ranges)\n",
    "    # count registereds\n",
    "    count_over50 = count_over50_func(year)\n",
    "    count_under35 = count_under35_func(year)\n",
    "    count_between = count_voters(year) - count_over50 - count_under35 \n",
    "    data_for_bar_chart[2].extend([count_under35, count_between, count_over50])\n",
    "    \n",
    "    # count voted\n",
    "    count_over50_voted = count_over50_func(year, check_if_voted=True)\n",
    "    count_under35_voted = count_under35_func(year, check_if_voted=True)\n",
    "    count_between_voted = count_voters(year, check_if_voted=True) - count_over50_voted - count_under35_voted \n",
    "    data_for_bar_chart[3].extend([\n",
    "        count_under35_voted,\n",
    "        count_between_voted,\n",
    "        count_over50_voted\n",
    "    ])\n",
    "    \n",
    "    data_for_bar_chart[4].extend([\n",
    "        count_under35_voted/count_under35,\n",
    "        count_between_voted/count_between,\n",
    "        count_over50_voted/count_over50     \n",
    "    ])\n",
    "\n",
    "rows = zip(\n",
    "    data_for_bar_chart[0],\n",
    "    data_for_bar_chart[1],\n",
    "    data_for_bar_chart[2],\n",
    "    data_for_bar_chart[3],\n",
    "    data_for_bar_chart[4]\n",
    ")\n",
    "headers = ['Year', 'Age Ranges', 'Count Registered', 'Count Voted', 'Proportional Vote']\n",
    "df = pd.DataFrame(rows, columns=headers)\n",
    "\n",
    "df"
   ]
  },
  {
   "cell_type": "code",
   "execution_count": 42,
   "id": "pretty-blind",
   "metadata": {},
   "outputs": [
    {
     "data": {
      "image/png": "[encoded data removed]",
      "text/plain": [
       "<Figure size 720x504 with 1 Axes>"
      ]
     },
     "metadata": {},
     "output_type": "display_data"
    }
   ],
   "source": [
    "fig, ax = plt.subplots(figsize=(10,7))  \n",
    "\n",
    "margin_bottom = 2* np.zeros(len(df['Year'].drop_duplicates()))\n",
    "colors = [\"#006D2C\", \"#31A354\",\"#74C476\"]\n",
    "\n",
    "for num, age_range in enumerate(age_ranges):\n",
    "    values = list(df[df['Age Ranges'] == age_range].loc[:, 'Count Registered'])\n",
    "    df[df['Age Ranges'] == age_range].plot.bar(x='Year', y='Count Registered', ax=ax, stacked=True, \n",
    "                                    bottom = margin_bottom, color=colors[num], label=age_range)\n",
    "    margin_bottom += values   \n",
    "\n",
    "plt.title('Registered Voter Age Ranges')\n",
    "plt.show()"
   ]
  },
  {
   "cell_type": "code",
   "execution_count": 43,
   "id": "familiar-remark",
   "metadata": {},
   "outputs": [
    {
     "data": {
      "image/png": "[encoded data removed]",
      "text/plain": [
       "<Figure size 720x504 with 1 Axes>"
      ]
     },
     "metadata": {},
     "output_type": "display_data"
    }
   ],
   "source": [
    "fig, ax = plt.subplots(figsize=(10,7))  \n",
    "\n",
    "margin_bottom = 2* np.zeros(len(df['Year'].drop_duplicates()))\n",
    "colors = [\"#006D2C\", \"#31A354\",\"#74C476\"]\n",
    "\n",
    "for num, age_range in enumerate(age_ranges):\n",
    "    values = list(df[df['Age Ranges'] == age_range].loc[:, 'Count Voted'])\n",
    "    df[df['Age Ranges'] == age_range].plot.bar(x='Year', y='Count Voted', ax=ax, stacked=True, \n",
    "                                    bottom = margin_bottom, color=colors[num], label=age_range)\n",
    "    margin_bottom += values    \n",
    "\n",
    "plt.title('Voting Voter Age Ranges')\n",
    "plt.show()"
   ]
  },
  {
   "cell_type": "code",
   "execution_count": 44,
   "id": "impressed-surprise",
   "metadata": {},
   "outputs": [
    {
     "data": {
      "image/png": "[encoded data removed]",
      "text/plain": [
       "<Figure size 720x504 with 1 Axes>"
      ]
     },
     "metadata": {},
     "output_type": "display_data"
    },
    {
     "data": {
      "image/png": "[encoded data removed]",
      "text/plain": [
       "<Figure size 720x504 with 1 Axes>"
      ]
     },
     "metadata": {},
     "output_type": "display_data"
    },
    {
     "data": {
      "image/png": "[encoded data removed]",
      "text/plain": [
       "<Figure size 720x504 with 1 Axes>"
      ]
     },
     "metadata": {},
     "output_type": "display_data"
    }
   ],
   "source": [
    "#fig, ax = plt.subplots(figsize=(10,7))  \n",
    "\n",
    "#margin_bottom = 2 * np.zeros(len(df['Year'].drop_duplicates()))\n",
    "colors = [\"#006D2C\", \"#31A354\",\"#74C476\"]\n",
    "\n",
    "for num, age_range in enumerate(age_ranges):\n",
    "    fig, ax = plt.subplots(figsize=(10,7))\n",
    "    values = list(df[df['Age Ranges'] == age_range].loc[:, 'Proportional Vote'])\n",
    "    df[df['Age Ranges'] == age_range].plot.bar(\n",
    "        x='Year',\n",
    "        y='Proportional Vote',\n",
    "        ax=ax,\n",
    "        color=colors[num],)\n",
    "    plt.title(f'Proportion of registered voters {age_range} who voted')\n",
    "    plt.show()"
   ]
  },
  {
   "cell_type": "markdown",
   "id": "residential-cemetery",
   "metadata": {},
   "source": [
    "# Calculate the “missing youth vote”\n",
    "\n",
    "Defining the \"missing youth vote\" as the difference between the number of registered youth voters who would have voted if youth voters voted at the same rate as the over 50 population and the number of registered youth voters who actually voted."
   ]
  },
  {
   "cell_type": "code",
   "execution_count": 21,
   "id": "acoustic-values",
   "metadata": {},
   "outputs": [
    {
     "name": "stdout",
     "output_type": "stream",
     "text": [
      "Missing youth vote in year 2017: 90303\n",
      "Missing youth vote in year 2018: 66916\n",
      "Missing youth vote in year 2019: 71824\n",
      "Missing youth vote in year 2020: 20686\n"
     ]
    }
   ],
   "source": [
    "for year in years:\n",
    "    rate_of_over50_voting = count_over50_func(year, check_if_voted=True) / count_over50_func(year)\n",
    "    #print(rate_of_over50_voting)\n",
    "    # we don't actually use this in our report but this calculates the rate of voting for those under 35\n",
    "    rate_of_under35_voting = count_under35_func(year, check_if_voted=True) / count_under35_func(year)\n",
    "    #print(rate_of_under35_voting)\n",
    "\n",
    "    # If youth voted at the same rate as over 50\n",
    "    potential_youth_vote = count_under35_func(year) * rate_of_over50_voting\n",
    "    # Actual youth vote this year\n",
    "    actual_youth_vote = count_under35_func(year, check_if_voted=True)\n",
    "\n",
    "    # Missing vote = \n",
    "    missing_youth_vote = potential_youth_vote - actual_youth_vote\n",
    "    print(f\"Missing youth vote in year {year}: {round(missing_youth_vote)}\")"
   ]
  }
 ],
 "metadata": {
  "kernelspec": {
   "display_name": "Python 3",
   "language": "python",
   "name": "python3"
  },
  "language_info": {
   "codemirror_mode": {
    "name": "ipython",
    "version": 3
   },
   "file_extension": ".py",
   "mimetype": "text/x-python",
   "name": "python",
   "nbconvert_exporter": "python",
   "pygments_lexer": "ipython3",
   "version": "3.7.2"
  }
 },
 "nbformat": 4,
 "nbformat_minor": 5
}

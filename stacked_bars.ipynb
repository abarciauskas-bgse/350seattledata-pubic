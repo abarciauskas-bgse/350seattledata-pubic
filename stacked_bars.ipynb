{
 "cells": [
  {
   "cell_type": "code",
   "execution_count": 1,
   "id": "nutritional-tragedy",
   "metadata": {},
   "outputs": [],
   "source": [
    "#! pip install psycopg2\n",
    "import psycopg2"
   ]
  },
  {
   "cell_type": "code",
   "execution_count": 63,
   "id": "fresh-terminal",
   "metadata": {},
   "outputs": [],
   "source": [
    "conn = psycopg2.connect(\"dbname=350seattle\")"
   ]
  },
  {
   "cell_type": "code",
   "execution_count": 64,
   "id": "another-terrorist",
   "metadata": {},
   "outputs": [],
   "source": [
    "cur = conn.cursor()"
   ]
  },
  {
   "cell_type": "code",
   "execution_count": 25,
   "id": "bound-valley",
   "metadata": {},
   "outputs": [],
   "source": [
    "# results = cur.execute(\"SELECT * FROM voters_kc_2017 limit 10\");\n",
    "years = [2017, 2018, 2019]\n",
    "def table_name(year):\n",
    "    return f\"voters_kc_{year}\""
   ]
  },
  {
   "cell_type": "code",
   "execution_count": 74,
   "id": "ranging-project",
   "metadata": {},
   "outputs": [],
   "source": [
    "def count_eligible_voters(year):\n",
    "    create_function = f\"\"\"\n",
    "    create or replace function count_total_eligible() returns int as $$\n",
    "        DECLARE  \n",
    "            total_eligible_voters integer;\n",
    "        BEGIN  \n",
    "            return (select count(*) from {table_name(year)});\n",
    "        END;\n",
    "    $$ LANGUAGE plpgsql;\n",
    "    \"\"\"\n",
    "    cur.execute(create_function)\n",
    "    cur.execute(\"select count_total_eligible from count_total_eligible();\")\n",
    "    return cur.fetchone()[0]"
   ]
  },
  {
   "cell_type": "code",
   "execution_count": 75,
   "id": "charming-leave",
   "metadata": {},
   "outputs": [
    {
     "name": "stdout",
     "output_type": "stream",
     "text": [
      "521081\n",
      "521081\n",
      "521210\n"
     ]
    }
   ],
   "source": [
    "print(count_eligible_voters(2017))\n",
    "print(count_eligible_voters(2018))\n",
    "print(count_eligible_voters(2019))"
   ]
  },
  {
   "cell_type": "code",
   "execution_count": 66,
   "id": "established-portable",
   "metadata": {},
   "outputs": [],
   "source": [
    "election_dates = {\n",
    "    2017: '20171107',\n",
    "    2018: '20181106',\n",
    "    2019: '20191105'\n",
    "}"
   ]
  },
  {
   "cell_type": "code",
   "execution_count": 49,
   "id": "vietnamese-interim",
   "metadata": {},
   "outputs": [
    {
     "data": {
      "text/plain": [
       "'20171107'"
      ]
     },
     "execution_count": 49,
     "metadata": {},
     "output_type": "execute_result"
    }
   ],
   "source": [
    "election_dates[2017]"
   ]
  },
  {
   "cell_type": "code",
   "execution_count": 67,
   "id": "running-thinking",
   "metadata": {},
   "outputs": [],
   "source": [
    "def count_under35_eligible(year):\n",
    "    date_str = election_dates[year]\n",
    "    create_function = f\"\"\"\n",
    "    create or replace function count_under35() returns int as $$\n",
    "        DECLARE  \n",
    "            under35 integer;\n",
    "        BEGIN  \n",
    "            return (select count(*) from {table_name(year)} where Birthdate > ((SELECT TO_DATE(\\'{date_str}\\', 'YYYYMMDD')) - interval '35 years'));\n",
    "        END;\n",
    "    $$ LANGUAGE plpgsql;\n",
    "    \"\"\"\n",
    "    cur.execute(create_function)\n",
    "    cur.execute(\"select * from count_under35()\")\n",
    "    return cur.fetchone()[0]    "
   ]
  },
  {
   "cell_type": "code",
   "execution_count": 68,
   "id": "copyrighted-chain",
   "metadata": {},
   "outputs": [
    {
     "name": "stdout",
     "output_type": "stream",
     "text": [
      "226436\n",
      "214512\n",
      "202214\n"
     ]
    }
   ],
   "source": [
    "print(count_under35_eligible(2017))\n",
    "print(count_under35_eligible(2018))\n",
    "print(count_under35_eligible(2019))"
   ]
  },
  {
   "cell_type": "code",
   "execution_count": 69,
   "id": "loaded-affairs",
   "metadata": {},
   "outputs": [],
   "source": [
    "def count_over50_eligible(year):\n",
    "    date_str = election_dates[year]\n",
    "    create_function = f\"\"\"\n",
    "    create or replace function count_over50() returns int as $$\n",
    "        DECLARE  \n",
    "            over50 integer;\n",
    "        BEGIN  \n",
    "            return (select count(*) from {table_name(year)} where Birthdate < ((SELECT TO_DATE(\\'{date_str}\\', 'YYYYMMDD')) - interval '50 years'));\n",
    "        END;\n",
    "    $$ LANGUAGE plpgsql;\n",
    "    \"\"\"\n",
    "    cur.execute(create_function)\n",
    "    cur.execute(\"select * from count_over50()\")\n",
    "    return cur.fetchone()[0]    "
   ]
  },
  {
   "cell_type": "code",
   "execution_count": 70,
   "id": "harmful-executive",
   "metadata": {},
   "outputs": [
    {
     "name": "stdout",
     "output_type": "stream",
     "text": [
      "162260\n",
      "170079\n",
      "178262\n"
     ]
    }
   ],
   "source": [
    "print(count_over50_eligible(2017))\n",
    "print(count_over50_eligible(2018))\n",
    "print(count_over50_eligible(2019))"
   ]
  },
  {
   "cell_type": "code",
   "execution_count": 77,
   "id": "lesbian-episode",
   "metadata": {},
   "outputs": [],
   "source": [
    "# Bar chart represents total eligible, broken up by under 35, between 35 and 50 and over 50\n",
    "age_ranges = ['Under 35','35-50','Over 50']\n",
    "year = 2017\n",
    "count_over50 = count_over50_eligible(year)\n",
    "count_under35 = count_under35_eligible(year)\n",
    "count_between = count_eligible_voters(year) - count_over50 - count_under35\n",
    "counts = [count_under35, count_between, count_over50]\n"
   ]
  },
  {
   "cell_type": "code",
   "execution_count": 89,
   "id": "military-activity",
   "metadata": {},
   "outputs": [
    {
     "data": {
      "text/plain": [
       "array(['Under 35', 'Under 35', 'Under 35', '35-50', '35-50', '35-50',\n",
       "       'Over 50', 'Over 50', 'Over 50'], dtype='<U8')"
      ]
     },
     "execution_count": 89,
     "metadata": {},
     "output_type": "execute_result"
    }
   ],
   "source": [
    "# np.repeat(years, 3)\n",
    "np.repeat(age_ranges, 3)"
   ]
  },
  {
   "cell_type": "code",
   "execution_count": 90,
   "id": "resident-mouth",
   "metadata": {},
   "outputs": [
    {
     "data": {
      "text/html": [
       "<div>\n",
       "<style scoped>\n",
       "    .dataframe tbody tr th:only-of-type {\n",
       "        vertical-align: middle;\n",
       "    }\n",
       "\n",
       "    .dataframe tbody tr th {\n",
       "        vertical-align: top;\n",
       "    }\n",
       "\n",
       "    .dataframe thead th {\n",
       "        text-align: right;\n",
       "    }\n",
       "</style>\n",
       "<table border=\"1\" class=\"dataframe\">\n",
       "  <thead>\n",
       "    <tr style=\"text-align: right;\">\n",
       "      <th></th>\n",
       "      <th>Year</th>\n",
       "      <th>Age Ranges</th>\n",
       "      <th>Value</th>\n",
       "    </tr>\n",
       "  </thead>\n",
       "  <tbody>\n",
       "    <tr>\n",
       "      <th>0</th>\n",
       "      <td>2017</td>\n",
       "      <td>Under 35</td>\n",
       "      <td>226436</td>\n",
       "    </tr>\n",
       "    <tr>\n",
       "      <th>1</th>\n",
       "      <td>2017</td>\n",
       "      <td>35-50</td>\n",
       "      <td>132385</td>\n",
       "    </tr>\n",
       "    <tr>\n",
       "      <th>2</th>\n",
       "      <td>2017</td>\n",
       "      <td>Over 50</td>\n",
       "      <td>162260</td>\n",
       "    </tr>\n",
       "  </tbody>\n",
       "</table>\n",
       "</div>"
      ],
      "text/plain": [
       "   Year Age Ranges   Value\n",
       "0  2017   Under 35  226436\n",
       "1  2017      35-50  132385\n",
       "2  2017    Over 50  162260"
      ]
     },
     "execution_count": 90,
     "metadata": {},
     "output_type": "execute_result"
    }
   ],
   "source": [
    "%matplotlib inline\n",
    "\n",
    "# https://pstblog.com/2016/10/04/stacked-charts\n",
    "import pandas as pd\n",
    "import numpy as np\n",
    "import matplotlib.pyplot as plt\n",
    "import matplotlib\n",
    "\n",
    "matplotlib.style.use('ggplot')\n",
    "\n",
    "# for each year, append 3 of that year to the first item in data\n",
    "# append the age ranges to the second item in `data`\n",
    "# apend \n",
    "# data_for_bar_chart = [\n",
    "#   years, -- 2017, 2017, 2017, 2018, ...\n",
    "#.  age_ranges, -- Under 35, 35-50, Over 50, (repeat)\n",
    "#.  counts, -- count_under35(year)\n",
    "]\n",
    "data = [np.repeat(year, 3), age_ranges, counts]\n",
    "\n",
    "rows = zip(data[0], data[1], data[2])\n",
    "headers = ['Year', 'Age Ranges', 'Value']\n",
    "df = pd.DataFrame(rows, columns=headers)\n",
    "\n",
    "df"
   ]
  },
  {
   "cell_type": "code",
   "execution_count": 92,
   "id": "streaming-watts",
   "metadata": {},
   "outputs": [
    {
     "data": {
      "image/png": "[encoded data removed]",
      "text/plain": [
       "<Figure size 720x504 with 1 Axes>"
      ]
     },
     "metadata": {},
     "output_type": "display_data"
    }
   ],
   "source": [
    "fig, ax = plt.subplots(figsize=(10,7))  \n",
    "\n",
    "#months = df['Month'].drop_duplicates()\n",
    "margin_bottom = np.zeros(len(df['Year'].drop_duplicates()))\n",
    "colors = [\"#006D2C\", \"#31A354\",\"#74C476\"]\n",
    "\n",
    "for num, age_range in enumerate(age_ranges):\n",
    "    values = list(df[df['Age Ranges'] == age_range].loc[:, 'Value'])\n",
    "\n",
    "    df[df['Age Ranges'] == age_range].plot.bar(x='Year',y='Value', ax=ax, stacked=True, \n",
    "                                    bottom = margin_bottom, color=colors[num], label=age_range)\n",
    "    margin_bottom += values\n",
    "\n",
    "plt.show()"
   ]
  },
  {
   "cell_type": "code",
   "execution_count": 71,
   "id": "pleasant-object",
   "metadata": {},
   "outputs": [],
   "source": [
    "def count_voted(year):\n",
    "    create_function = f\"\"\"    \n",
    "    create or replace function count_voted() returns int as $$\n",
    "        DECLARE  \n",
    "            count_voted integer;\n",
    "        BEGIN  \n",
    "            return (select count(*) from {table_name(year)} where VOTED = 1);\n",
    "        END;\n",
    "    $$ LANGUAGE plpgsql;\n",
    "    \"\"\"\n",
    "    cur.execute(create_function)\n",
    "    cur.execute(\"select * from count_voted()\")\n",
    "    return cur.fetchone()[0]      "
   ]
  },
  {
   "cell_type": "code",
   "execution_count": 73,
   "id": "final-civilian",
   "metadata": {},
   "outputs": [
    {
     "name": "stdout",
     "output_type": "stream",
     "text": [
      "189451\n",
      "319069\n",
      "242891\n"
     ]
    }
   ],
   "source": [
    "print(count_voted(2017))\n",
    "print(count_voted(2018))\n",
    "print(count_voted(2019))"
   ]
  },
  {
   "cell_type": "code",
   "execution_count": null,
   "id": "auburn-emperor",
   "metadata": {},
   "outputs": [],
   "source": []
  }
 ],
 "metadata": {
  "kernelspec": {
   "display_name": "Python 3",
   "language": "python",
   "name": "python3"
  },
  "language_info": {
   "codemirror_mode": {
    "name": "ipython",
    "version": 3
   },
   "file_extension": ".py",
   "mimetype": "text/x-python",
   "name": "python",
   "nbconvert_exporter": "python",
   "pygments_lexer": "ipython3",
   "version": "3.7.2"
  }
 },
 "nbformat": 4,
 "nbformat_minor": 5
}
